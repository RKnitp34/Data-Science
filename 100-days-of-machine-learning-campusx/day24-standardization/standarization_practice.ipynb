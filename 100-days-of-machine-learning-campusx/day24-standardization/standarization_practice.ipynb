{
 "cells": [
  {
   "cell_type": "code",
   "execution_count": 1,
   "id": "211cf214",
   "metadata": {},
   "outputs": [],
   "source": [
    "import pandas as pd \n",
    "import numpy as np\n",
    "import matplotlib.pyplot as plt\n",
    "import seaborn as sns\n",
    "import warnings\n",
    "warnings.filterwarnings(action='ignore')"
   ]
  },
  {
   "cell_type": "code",
   "execution_count": 2,
   "id": "653e3e25",
   "metadata": {},
   "outputs": [],
   "source": [
    "df = pd.read_csv('Social_Network_Ads.csv')"
   ]
  },
  {
   "cell_type": "code",
   "execution_count": 3,
   "id": "b355a142",
   "metadata": {},
   "outputs": [
    {
     "data": {
      "text/html": [
       "<div>\n",
       "<style scoped>\n",
       "    .dataframe tbody tr th:only-of-type {\n",
       "        vertical-align: middle;\n",
       "    }\n",
       "\n",
       "    .dataframe tbody tr th {\n",
       "        vertical-align: top;\n",
       "    }\n",
       "\n",
       "    .dataframe thead th {\n",
       "        text-align: right;\n",
       "    }\n",
       "</style>\n",
       "<table border=\"1\" class=\"dataframe\">\n",
       "  <thead>\n",
       "    <tr style=\"text-align: right;\">\n",
       "      <th></th>\n",
       "      <th>User ID</th>\n",
       "      <th>Gender</th>\n",
       "      <th>Age</th>\n",
       "      <th>EstimatedSalary</th>\n",
       "      <th>Purchased</th>\n",
       "    </tr>\n",
       "  </thead>\n",
       "  <tbody>\n",
       "    <tr>\n",
       "      <th>0</th>\n",
       "      <td>15624510</td>\n",
       "      <td>Male</td>\n",
       "      <td>19</td>\n",
       "      <td>19000</td>\n",
       "      <td>0</td>\n",
       "    </tr>\n",
       "    <tr>\n",
       "      <th>1</th>\n",
       "      <td>15810944</td>\n",
       "      <td>Male</td>\n",
       "      <td>35</td>\n",
       "      <td>20000</td>\n",
       "      <td>0</td>\n",
       "    </tr>\n",
       "    <tr>\n",
       "      <th>2</th>\n",
       "      <td>15668575</td>\n",
       "      <td>Female</td>\n",
       "      <td>26</td>\n",
       "      <td>43000</td>\n",
       "      <td>0</td>\n",
       "    </tr>\n",
       "    <tr>\n",
       "      <th>3</th>\n",
       "      <td>15603246</td>\n",
       "      <td>Female</td>\n",
       "      <td>27</td>\n",
       "      <td>57000</td>\n",
       "      <td>0</td>\n",
       "    </tr>\n",
       "    <tr>\n",
       "      <th>4</th>\n",
       "      <td>15804002</td>\n",
       "      <td>Male</td>\n",
       "      <td>19</td>\n",
       "      <td>76000</td>\n",
       "      <td>0</td>\n",
       "    </tr>\n",
       "  </tbody>\n",
       "</table>\n",
       "</div>"
      ],
      "text/plain": [
       "    User ID  Gender  Age  EstimatedSalary  Purchased\n",
       "0  15624510    Male   19            19000          0\n",
       "1  15810944    Male   35            20000          0\n",
       "2  15668575  Female   26            43000          0\n",
       "3  15603246  Female   27            57000          0\n",
       "4  15804002    Male   19            76000          0"
      ]
     },
     "execution_count": 3,
     "metadata": {},
     "output_type": "execute_result"
    }
   ],
   "source": [
    "df.head()"
   ]
  },
  {
   "cell_type": "code",
   "execution_count": 4,
   "id": "572de9c4",
   "metadata": {},
   "outputs": [
    {
     "data": {
      "text/plain": [
       "(400, 5)"
      ]
     },
     "execution_count": 4,
     "metadata": {},
     "output_type": "execute_result"
    }
   ],
   "source": [
    "df.shape"
   ]
  },
  {
   "cell_type": "code",
   "execution_count": 5,
   "id": "157bf6ce",
   "metadata": {},
   "outputs": [
    {
     "name": "stdout",
     "output_type": "stream",
     "text": [
      "<class 'pandas.core.frame.DataFrame'>\n",
      "RangeIndex: 400 entries, 0 to 399\n",
      "Data columns (total 5 columns):\n",
      " #   Column           Non-Null Count  Dtype \n",
      "---  ------           --------------  ----- \n",
      " 0   User ID          400 non-null    int64 \n",
      " 1   Gender           400 non-null    object\n",
      " 2   Age              400 non-null    int64 \n",
      " 3   EstimatedSalary  400 non-null    int64 \n",
      " 4   Purchased        400 non-null    int64 \n",
      "dtypes: int64(4), object(1)\n",
      "memory usage: 15.8+ KB\n"
     ]
    }
   ],
   "source": [
    "df.info()"
   ]
  },
  {
   "cell_type": "code",
   "execution_count": 6,
   "id": "67e09f4d",
   "metadata": {},
   "outputs": [
    {
     "data": {
      "text/plain": [
       "User ID            0\n",
       "Gender             0\n",
       "Age                0\n",
       "EstimatedSalary    0\n",
       "Purchased          0\n",
       "dtype: int64"
      ]
     },
     "execution_count": 6,
     "metadata": {},
     "output_type": "execute_result"
    }
   ],
   "source": [
    "df.isna().sum()"
   ]
  },
  {
   "cell_type": "code",
   "execution_count": 7,
   "id": "021331cc",
   "metadata": {},
   "outputs": [],
   "source": [
    "df = df.iloc[: , 2:]\n"
   ]
  },
  {
   "cell_type": "code",
   "execution_count": 8,
   "id": "a009efb7",
   "metadata": {},
   "outputs": [
    {
     "data": {
      "text/plain": [
       "<AxesSubplot:>"
      ]
     },
     "execution_count": 8,
     "metadata": {},
     "output_type": "execute_result"
    },
    {
     "data": {
      "image/png": "[encoded data removed]",
      "text/plain": [
       "<Figure size 432x288 with 1 Axes>"
      ]
     },
     "metadata": {
      "needs_background": "light"
     },
     "output_type": "display_data"
    }
   ],
   "source": [
    "sns.kdeplot(df['Age'])"
   ]
  },
  {
   "cell_type": "code",
   "execution_count": 9,
   "id": "e1bc850f",
   "metadata": {},
   "outputs": [
    {
     "data": {
      "text/plain": [
       "<AxesSubplot:>"
      ]
     },
     "execution_count": 9,
     "metadata": {},
     "output_type": "execute_result"
    },
    {
     "data": {
      "image/png": "[encoded data removed]",
      "text/plain": [
       "<Figure size 432x288 with 1 Axes>"
      ]
     },
     "metadata": {
      "needs_background": "light"
     },
     "output_type": "display_data"
    }
   ],
   "source": [
    "sns.kdeplot(df['EstimatedSalary'])"
   ]
  },
  {
   "cell_type": "markdown",
   "id": "143cb82b",
   "metadata": {},
   "source": [
    "# <font color = 'brown'>Train Test split</font>"
   ]
  },
  {
   "cell_type": "code",
   "execution_count": 10,
   "id": "e0612db2",
   "metadata": {},
   "outputs": [],
   "source": [
    "X =df.drop('Purchased' , axis = 1)\n",
    "y=df['Purchased']"
   ]
  },
  {
   "cell_type": "code",
   "execution_count": 11,
   "id": "0e9cf27e",
   "metadata": {},
   "outputs": [],
   "source": [
    "from sklearn.model_selection import train_test_split\n",
    "X_train , X_test , y_train , y_test = train_test_split(X , y , test_size = 0.3, random_state = 2)"
   ]
  },
  {
   "cell_type": "code",
   "execution_count": 12,
   "id": "a0e13d81",
   "metadata": {},
   "outputs": [
    {
     "data": {
      "text/plain": [
       "((280, 2), (120, 2))"
      ]
     },
     "execution_count": 12,
     "metadata": {},
     "output_type": "execute_result"
    }
   ],
   "source": [
    "X_train.shape,X_test.shape"
   ]
  },
  {
   "cell_type": "markdown",
   "id": "6e0ecbf8",
   "metadata": {},
   "source": [
    "# <font color = 'brown'>Standard Scaler</font>"
   ]
  },
  {
   "cell_type": "code",
   "execution_count": 13,
   "id": "646540be",
   "metadata": {},
   "outputs": [
    {
     "data": {
      "text/plain": [
       "StandardScaler()"
      ]
     },
     "execution_count": 13,
     "metadata": {},
     "output_type": "execute_result"
    }
   ],
   "source": [
    "from sklearn.preprocessing import StandardScaler\n",
    "ss = StandardScaler()\n",
    "# fit the scaler to the train set, it will learn the parameters\n",
    "ss.fit(X_train)"
   ]
  },
  {
   "cell_type": "code",
   "execution_count": 14,
   "id": "d27137ad",
   "metadata": {},
   "outputs": [],
   "source": [
    "#transform train and test sets\n",
    "X_train_scaled = ss.transform(X_train)\n",
    "X_test_scaled = ss.transform(X_test)"
   ]
  },
  {
   "cell_type": "code",
   "execution_count": 15,
   "id": "f43d3869",
   "metadata": {},
   "outputs": [
    {
     "data": {
      "text/plain": [
       "array([3.77642857e+01, 6.99000000e+04])"
      ]
     },
     "execution_count": 15,
     "metadata": {},
     "output_type": "execute_result"
    }
   ],
   "source": [
    "ss.mean_"
   ]
  },
  {
   "cell_type": "code",
   "execution_count": 16,
   "id": "2e88f496",
   "metadata": {},
   "outputs": [
    {
     "data": {
      "text/html": [
       "<div>\n",
       "<style scoped>\n",
       "    .dataframe tbody tr th:only-of-type {\n",
       "        vertical-align: middle;\n",
       "    }\n",
       "\n",
       "    .dataframe tbody tr th {\n",
       "        vertical-align: top;\n",
       "    }\n",
       "\n",
       "    .dataframe thead th {\n",
       "        text-align: right;\n",
       "    }\n",
       "</style>\n",
       "<table border=\"1\" class=\"dataframe\">\n",
       "  <thead>\n",
       "    <tr style=\"text-align: right;\">\n",
       "      <th></th>\n",
       "      <th>Age</th>\n",
       "      <th>EstimatedSalary</th>\n",
       "    </tr>\n",
       "  </thead>\n",
       "  <tbody>\n",
       "    <tr>\n",
       "      <th>112</th>\n",
       "      <td>38</td>\n",
       "      <td>61000</td>\n",
       "    </tr>\n",
       "    <tr>\n",
       "      <th>209</th>\n",
       "      <td>46</td>\n",
       "      <td>22000</td>\n",
       "    </tr>\n",
       "    <tr>\n",
       "      <th>294</th>\n",
       "      <td>35</td>\n",
       "      <td>57000</td>\n",
       "    </tr>\n",
       "    <tr>\n",
       "      <th>307</th>\n",
       "      <td>47</td>\n",
       "      <td>113000</td>\n",
       "    </tr>\n",
       "    <tr>\n",
       "      <th>345</th>\n",
       "      <td>41</td>\n",
       "      <td>63000</td>\n",
       "    </tr>\n",
       "    <tr>\n",
       "      <th>...</th>\n",
       "      <td>...</td>\n",
       "      <td>...</td>\n",
       "    </tr>\n",
       "    <tr>\n",
       "      <th>299</th>\n",
       "      <td>46</td>\n",
       "      <td>117000</td>\n",
       "    </tr>\n",
       "    <tr>\n",
       "      <th>22</th>\n",
       "      <td>48</td>\n",
       "      <td>41000</td>\n",
       "    </tr>\n",
       "    <tr>\n",
       "      <th>72</th>\n",
       "      <td>20</td>\n",
       "      <td>23000</td>\n",
       "    </tr>\n",
       "    <tr>\n",
       "      <th>15</th>\n",
       "      <td>29</td>\n",
       "      <td>80000</td>\n",
       "    </tr>\n",
       "    <tr>\n",
       "      <th>168</th>\n",
       "      <td>29</td>\n",
       "      <td>148000</td>\n",
       "    </tr>\n",
       "  </tbody>\n",
       "</table>\n",
       "<p>280 rows × 2 columns</p>\n",
       "</div>"
      ],
      "text/plain": [
       "     Age  EstimatedSalary\n",
       "112   38            61000\n",
       "209   46            22000\n",
       "294   35            57000\n",
       "307   47           113000\n",
       "345   41            63000\n",
       "..   ...              ...\n",
       "299   46           117000\n",
       "22    48            41000\n",
       "72    20            23000\n",
       "15    29            80000\n",
       "168   29           148000\n",
       "\n",
       "[280 rows x 2 columns]"
      ]
     },
     "execution_count": 16,
     "metadata": {},
     "output_type": "execute_result"
    }
   ],
   "source": [
    "X_train"
   ]
  },
  {
   "cell_type": "code",
   "execution_count": 17,
   "id": "c335c12d",
   "metadata": {},
   "outputs": [
    {
     "data": {
      "text/plain": [
       "array([[ 0.02273414, -0.26389006],\n",
       "       [ 0.79431698, -1.42026223],\n",
       "       [-0.26660943, -0.38249233],\n",
       "       [ 0.89076483,  1.2779395 ],\n",
       "       [ 0.3120777 , -0.20458892],\n",
       "       [-0.26660943, -0.59004631],\n",
       "       [-0.26660943, -1.42026223],\n",
       "       [ 1.46945196, -1.06445541],\n",
       "       [-0.07371372,  0.12156733],\n",
       "       [-0.84529656, -0.67899802],\n",
       "       [-0.07371372,  0.00296506],\n",
       "       [-0.26660943,  0.09191676],\n",
       "       [ 0.21562985, -0.3231912 ],\n",
       "       [-0.26660943,  0.26982017],\n",
       "       [ 0.11918199,  0.03261563],\n",
       "       [ 1.95169124,  2.19710712],\n",
       "       [-1.03819227, -1.47956337],\n",
       "       [ 0.3120777 ,  0.29947074],\n",
       "       [ 2.04813909, -1.21270825],\n",
       "       [-1.13464012, -0.53074518],\n",
       "       [ 0.21562985,  0.1512179 ],\n",
       "       [-0.26660943, -0.94585313],\n",
       "       [-0.65240085,  0.03261563],\n",
       "       [ 0.21562985,  0.06226619],\n",
       "       [ 0.40852556, -0.14528779],\n",
       "       [-1.13464012, -1.12375655],\n",
       "       [-0.07371372,  2.25640826],\n",
       "       [ 1.08366054, -0.14528779],\n",
       "       [ 0.89076483,  1.04073495],\n",
       "       [-0.07371372,  0.26982017],\n",
       "       [-0.55595299, -1.5388645 ],\n",
       "       [-1.13464012, -1.03480484],\n",
       "       [-0.7488487 ,  1.36689121],\n",
       "       [ 1.08366054,  0.56632586],\n",
       "       [ 1.56589982, -1.30165996],\n",
       "       [ 0.69786912, -1.42026223],\n",
       "       [-0.65240085, -1.06445541],\n",
       "       [ 1.1801084 ,  0.53667529],\n",
       "       [-0.26660943, -1.47956337],\n",
       "       [-1.6168794 ,  0.53667529],\n",
       "       [-1.03819227, -1.15340711],\n",
       "       [-0.07371372,  0.03261563],\n",
       "       [ 0.3120777 ,  0.06226619],\n",
       "       [ 0.89076483, -1.39061166],\n",
       "       [-1.03819227, -0.35284176],\n",
       "       [-1.80977511,  0.18086847],\n",
       "       [-1.80977511, -1.4499128 ],\n",
       "       [ 0.69786912,  1.81164973],\n",
       "       [-0.07371372,  0.29947074],\n",
       "       [-1.6168794 ,  0.06226619],\n",
       "       [-0.65240085,  1.42619234],\n",
       "       [-0.26660943, -0.26389006],\n",
       "       [-0.36305728,  1.33724064],\n",
       "       [ 0.50497341,  1.24828893],\n",
       "       [-0.65240085,  0.18086847],\n",
       "       [-1.52043154, -0.44179347],\n",
       "       [-1.03819227,  0.41807302],\n",
       "       [ 0.79431698,  0.26982017],\n",
       "       [ 1.95169124, -0.94585313],\n",
       "       [ 0.79431698, -0.3231912 ],\n",
       "       [ 0.21562985,  0.2401696 ],\n",
       "       [-1.71332725, -0.61969688],\n",
       "       [-0.26660943,  0.1512179 ],\n",
       "       [-1.32753583, -1.27200939],\n",
       "       [-0.26660943, -0.44179347],\n",
       "       [ 0.11918199,  0.09191676],\n",
       "       [-0.94174441,  0.44772358],\n",
       "       [ 2.04813909,  0.38842245],\n",
       "       [-1.90622296,  0.35877188],\n",
       "       [ 2.04813909, -0.82725086],\n",
       "       [ 2.14458695,  1.12968666],\n",
       "       [ 0.79431698, -1.24235882],\n",
       "       [ 0.40852556, -0.47144404],\n",
       "       [ 0.02273414, -0.26389006],\n",
       "       [ 1.46945196,  0.35877188],\n",
       "       [-0.17016157, -0.59004631],\n",
       "       [ 0.21562985, -0.26389006],\n",
       "       [-0.45950514,  2.34535997],\n",
       "       [ 0.11918199,  0.21051904],\n",
       "       [ 0.21562985, -0.67899802],\n",
       "       [ 0.98721269, -1.09410598],\n",
       "       [-0.17016157,  0.1512179 ],\n",
       "       [-0.07371372,  0.29947074],\n",
       "       [ 0.40852556, -0.50109461],\n",
       "       [-0.36305728, -1.33131052],\n",
       "       [ 0.89076483, -0.79760029],\n",
       "       [-0.94174441,  0.41807302],\n",
       "       [-0.07371372, -0.44179347],\n",
       "       [-0.94174441, -0.44179347],\n",
       "       [-1.80977511,  0.44772358],\n",
       "       [-0.84529656, -1.24235882],\n",
       "       [-0.94174441, -0.3231912 ],\n",
       "       [ 0.98721269,  0.77387984],\n",
       "       [-1.6168794 , -0.05633608],\n",
       "       [-1.03819227, -0.35284176],\n",
       "       [ 0.02273414, -0.56039574],\n",
       "       [-0.65240085, -0.35284176],\n",
       "       [-1.13464012, -1.56851507],\n",
       "       [ 1.95169124, -1.39061166],\n",
       "       [-0.65240085, -1.62781621],\n",
       "       [ 0.21562985, -0.38249233],\n",
       "       [ 0.89076483,  2.19710712],\n",
       "       [ 1.1801084 , -1.00515427],\n",
       "       [-0.17016157, -0.53074518],\n",
       "       [ 1.66234767,  1.78199917],\n",
       "       [ 1.08366054, -1.24235882],\n",
       "       [ 0.02273414,  1.2779395 ],\n",
       "       [-0.45950514, -0.29354063],\n",
       "       [ 1.66234767, -0.91620257],\n",
       "       [ 0.3120777 ,  0.50702472],\n",
       "       [-1.03819227, -1.56851507],\n",
       "       [ 1.56589982,  1.12968666],\n",
       "       [-1.52043154,  0.32912131],\n",
       "       [ 0.02273414, -0.14528779],\n",
       "       [ 0.11918199, -0.82725086],\n",
       "       [ 0.21562985,  1.10003609],\n",
       "       [ 0.40852556, -0.17493835],\n",
       "       [-0.45950514, -0.02668551],\n",
       "       [ 1.08366054,  2.10815542],\n",
       "       [-0.26660943, -0.14528779],\n",
       "       [-0.7488487 , -0.61969688],\n",
       "       [ 1.1801084 , -1.47956337],\n",
       "       [-1.42398369, -1.47956337],\n",
       "       [ 1.85524338, -0.29354063],\n",
       "       [ 1.85524338,  0.12156733],\n",
       "       [ 0.40852556,  0.1512179 ],\n",
       "       [ 1.27655625, -1.39061166],\n",
       "       [-0.45950514, -1.24235882],\n",
       "       [-0.7488487 ,  1.93025201],\n",
       "       [-0.26660943,  1.12968666],\n",
       "       [ 0.02273414, -0.59004631],\n",
       "       [ 0.21562985, -0.14528779],\n",
       "       [-0.55595299,  1.93025201],\n",
       "       [-0.94174441,  0.26982017],\n",
       "       [-1.90622296,  0.47737415],\n",
       "       [-1.32753583,  0.56632586],\n",
       "       [ 0.21562985,  0.1512179 ],\n",
       "       [ 1.37300411, -1.4499128 ],\n",
       "       [-0.07371372,  0.68492813],\n",
       "       [ 0.11918199,  1.90060144],\n",
       "       [-1.71332725, -1.00515427],\n",
       "       [ 0.21562985, -0.38249233],\n",
       "       [-1.80977511, -1.33131052],\n",
       "       [ 0.79431698,  0.53667529],\n",
       "       [-0.17016157,  1.42619234],\n",
       "       [-1.03819227,  0.56632586],\n",
       "       [-1.23108798, -1.09410598],\n",
       "       [ 1.37300411,  2.01920371],\n",
       "       [ 0.79431698, -1.12375655],\n",
       "       [ 0.79431698,  0.12156733],\n",
       "       [-1.80977511, -1.30165996],\n",
       "       [ 0.02273414,  1.24828893],\n",
       "       [ 0.89076483, -0.61969688],\n",
       "       [ 2.14458695,  0.38842245],\n",
       "       [ 2.14458695, -0.82725086],\n",
       "       [ 0.98721269, -1.09410598],\n",
       "       [ 0.11918199,  1.54479462],\n",
       "       [-0.94174441,  0.50702472],\n",
       "       [-1.23108798,  0.26982017],\n",
       "       [ 0.40852556,  0.59597643],\n",
       "       [ 0.11918199,  0.1512179 ],\n",
       "       [ 0.21562985,  0.03261563],\n",
       "       [ 2.04813909,  2.16745656],\n",
       "       [-0.07371372, -0.38249233],\n",
       "       [-0.26660943,  0.80353041],\n",
       "       [-1.42398369, -0.20458892],\n",
       "       [ 1.08366054,  0.12156733],\n",
       "       [ 0.3120777 ,  0.06226619],\n",
       "       [ 0.11918199,  0.03261563],\n",
       "       [ 0.98721269, -1.03480484],\n",
       "       [-0.55595299,  1.48549348],\n",
       "       [-1.13464012, -1.62781621],\n",
       "       [ 1.27655625,  2.25640826],\n",
       "       [-1.42398369, -0.11563722],\n",
       "       [-1.80977511, -1.50921394],\n",
       "       [ 0.89076483, -1.18305768],\n",
       "       [ 2.14458695, -0.70864859],\n",
       "       [ 0.60142127, -0.91620257],\n",
       "       [-1.23108798, -1.42026223],\n",
       "       [-0.45950514, -0.85690143],\n",
       "       [-0.84529656, -0.26389006],\n",
       "       [ 1.46945196,  2.16745656],\n",
       "       [ 0.40852556,  1.01108439],\n",
       "       [ 0.02273414, -0.44179347],\n",
       "       [-1.13464012, -1.18305768],\n",
       "       [-0.7488487 ,  0.56632586],\n",
       "       [ 0.11918199,  1.07038552],\n",
       "       [-0.55595299,  1.39654178],\n",
       "       [ 0.11918199,  1.90060144],\n",
       "       [ 0.21562985,  2.13780599],\n",
       "       [ 1.46945196,  1.01108439],\n",
       "       [-1.71332725,  0.12156733],\n",
       "       [-0.26660943, -0.50109461],\n",
       "       [ 0.11918199,  0.77387984],\n",
       "       [ 0.89076483, -1.33131052],\n",
       "       [-0.26660943, -0.29354063],\n",
       "       [ 2.14458695, -1.06445541],\n",
       "       [ 0.40852556,  0.29947074],\n",
       "       [-0.17016157,  1.63374632],\n",
       "       [ 0.79431698, -0.85690143],\n",
       "       [-0.94174441,  1.57444519],\n",
       "       [ 0.11918199, -0.26389006],\n",
       "       [-1.23108798,  0.50702472],\n",
       "       [ 0.11918199, -0.82725086],\n",
       "       [ 1.08366054, -1.00515427],\n",
       "       [ 0.98721269,  1.81164973],\n",
       "       [-1.42398369, -0.64934745],\n",
       "       [ 0.98721269, -1.21270825],\n",
       "       [-1.32753583, -0.44179347],\n",
       "       [ 0.3120777 ,  0.06226619],\n",
       "       [-0.26660943, -0.59004631],\n",
       "       [-0.7488487 ,  1.10003609],\n",
       "       [ 1.56589982,  1.01108439],\n",
       "       [-1.03819227,  0.59597643],\n",
       "       [ 0.40852556,  0.09191676],\n",
       "       [-0.94174441, -0.3231912 ],\n",
       "       [ 1.1801084 , -0.76794972],\n",
       "       [-1.90622296, -0.53074518],\n",
       "       [ 1.08366054, -1.24235882],\n",
       "       [ 0.3120777 ,  0.26982017],\n",
       "       [-0.7488487 , -1.62781621],\n",
       "       [-0.26660943, -1.33131052],\n",
       "       [-0.26660943,  0.53667529],\n",
       "       [ 0.98721269,  1.90060144],\n",
       "       [-0.65240085, -0.11563722],\n",
       "       [-0.45950514,  1.2779395 ],\n",
       "       [ 0.3120777 , -0.53074518],\n",
       "       [ 1.85524338,  1.54479462],\n",
       "       [ 1.08366054,  0.47737415],\n",
       "       [ 2.04813909,  0.18086847],\n",
       "       [-1.71332725,  0.35877188],\n",
       "       [-0.17016157, -0.20458892],\n",
       "       [-0.65240085,  0.56632586],\n",
       "       [ 1.37300411,  1.30759007],\n",
       "       [ 1.08366054, -0.91620257],\n",
       "       [ 1.85524338, -1.09410598],\n",
       "       [-0.7488487 ,  0.50702472],\n",
       "       [-1.32753583, -1.12375655],\n",
       "       [ 0.79431698,  0.35877188],\n",
       "       [-0.84529656,  0.38842245],\n",
       "       [-0.7488487 ,  0.29947074],\n",
       "       [-1.03819227,  1.98955314],\n",
       "       [-0.07371372,  0.06226619],\n",
       "       [ 1.37300411,  2.37501053],\n",
       "       [-0.07371372,  0.1512179 ],\n",
       "       [-0.07371372,  1.98955314],\n",
       "       [-0.7488487 ,  0.26982017],\n",
       "       [-1.13464012,  0.32912131],\n",
       "       [ 0.3120777 , -0.29354063],\n",
       "       [ 0.98721269, -1.18305768],\n",
       "       [ 1.37300411,  0.59597643],\n",
       "       [-1.52043154, -1.5388645 ],\n",
       "       [-0.94174441, -0.76794972],\n",
       "       [-1.13464012,  0.06226619],\n",
       "       [ 0.40852556, -0.47144404],\n",
       "       [-1.90622296, -0.76794972],\n",
       "       [ 0.40852556,  0.26982017],\n",
       "       [-0.26660943,  0.21051904],\n",
       "       [-0.55595299,  0.47737415],\n",
       "       [-0.36305728, -0.79760029],\n",
       "       [-0.26660943,  0.03261563],\n",
       "       [-0.07371372,  0.21051904],\n",
       "       [-0.26660943,  0.1512179 ],\n",
       "       [ 0.3120777 , -0.56039574],\n",
       "       [ 0.79431698,  0.77387984],\n",
       "       [ 0.98721269,  2.01920371],\n",
       "       [-0.17016157, -0.29354063],\n",
       "       [-1.03819227, -0.47144404],\n",
       "       [-0.26660943, -0.35284176],\n",
       "       [ 0.11918199, -0.3231912 ],\n",
       "       [-0.26660943, -0.76794972],\n",
       "       [-0.07371372, -1.09410598],\n",
       "       [-0.26660943,  0.06226619],\n",
       "       [ 0.50497341,  1.7523486 ],\n",
       "       [-0.36305728,  1.24828893],\n",
       "       [ 0.79431698,  1.39654178],\n",
       "       [ 0.98721269, -0.85690143],\n",
       "       [-1.71332725, -1.39061166],\n",
       "       [-0.84529656,  0.29947074],\n",
       "       [-0.84529656,  2.3157094 ]])"
      ]
     },
     "execution_count": 17,
     "metadata": {},
     "output_type": "execute_result"
    }
   ],
   "source": [
    "X_train_scaled"
   ]
  },
  {
   "cell_type": "code",
   "execution_count": 18,
   "id": "6588bd65",
   "metadata": {},
   "outputs": [],
   "source": [
    "X_train_scaled = pd.DataFrame(X_train_scaled , columns = X_train.columns)\n",
    "X_test_scaled = pd.DataFrame(X_test_scaled , columns = X_test.columns)"
   ]
  },
  {
   "cell_type": "code",
   "execution_count": 19,
   "id": "2b07be28",
   "metadata": {},
   "outputs": [
    {
     "data": {
      "text/html": [
       "<div>\n",
       "<style scoped>\n",
       "    .dataframe tbody tr th:only-of-type {\n",
       "        vertical-align: middle;\n",
       "    }\n",
       "\n",
       "    .dataframe tbody tr th {\n",
       "        vertical-align: top;\n",
       "    }\n",
       "\n",
       "    .dataframe thead th {\n",
       "        text-align: right;\n",
       "    }\n",
       "</style>\n",
       "<table border=\"1\" class=\"dataframe\">\n",
       "  <thead>\n",
       "    <tr style=\"text-align: right;\">\n",
       "      <th></th>\n",
       "      <th>Age</th>\n",
       "      <th>EstimatedSalary</th>\n",
       "    </tr>\n",
       "  </thead>\n",
       "  <tbody>\n",
       "    <tr>\n",
       "      <th>count</th>\n",
       "      <td>280.0</td>\n",
       "      <td>280.0</td>\n",
       "    </tr>\n",
       "    <tr>\n",
       "      <th>mean</th>\n",
       "      <td>37.8</td>\n",
       "      <td>69900.0</td>\n",
       "    </tr>\n",
       "    <tr>\n",
       "      <th>std</th>\n",
       "      <td>10.4</td>\n",
       "      <td>33786.6</td>\n",
       "    </tr>\n",
       "    <tr>\n",
       "      <th>min</th>\n",
       "      <td>18.0</td>\n",
       "      <td>15000.0</td>\n",
       "    </tr>\n",
       "    <tr>\n",
       "      <th>25%</th>\n",
       "      <td>30.0</td>\n",
       "      <td>43750.0</td>\n",
       "    </tr>\n",
       "    <tr>\n",
       "      <th>50%</th>\n",
       "      <td>37.0</td>\n",
       "      <td>70500.0</td>\n",
       "    </tr>\n",
       "    <tr>\n",
       "      <th>75%</th>\n",
       "      <td>46.0</td>\n",
       "      <td>87000.0</td>\n",
       "    </tr>\n",
       "    <tr>\n",
       "      <th>max</th>\n",
       "      <td>60.0</td>\n",
       "      <td>150000.0</td>\n",
       "    </tr>\n",
       "  </tbody>\n",
       "</table>\n",
       "</div>"
      ],
      "text/plain": [
       "         Age  EstimatedSalary\n",
       "count  280.0            280.0\n",
       "mean    37.8          69900.0\n",
       "std     10.4          33786.6\n",
       "min     18.0          15000.0\n",
       "25%     30.0          43750.0\n",
       "50%     37.0          70500.0\n",
       "75%     46.0          87000.0\n",
       "max     60.0         150000.0"
      ]
     },
     "execution_count": 19,
     "metadata": {},
     "output_type": "execute_result"
    }
   ],
   "source": [
    "np.round(X_train.describe() , 1)"
   ]
  },
  {
   "cell_type": "code",
   "execution_count": 20,
   "id": "b37cb388",
   "metadata": {},
   "outputs": [
    {
     "data": {
      "text/html": [
       "<div>\n",
       "<style scoped>\n",
       "    .dataframe tbody tr th:only-of-type {\n",
       "        vertical-align: middle;\n",
       "    }\n",
       "\n",
       "    .dataframe tbody tr th {\n",
       "        vertical-align: top;\n",
       "    }\n",
       "\n",
       "    .dataframe thead th {\n",
       "        text-align: right;\n",
       "    }\n",
       "</style>\n",
       "<table border=\"1\" class=\"dataframe\">\n",
       "  <thead>\n",
       "    <tr style=\"text-align: right;\">\n",
       "      <th></th>\n",
       "      <th>Age</th>\n",
       "      <th>EstimatedSalary</th>\n",
       "    </tr>\n",
       "  </thead>\n",
       "  <tbody>\n",
       "    <tr>\n",
       "      <th>count</th>\n",
       "      <td>280.0</td>\n",
       "      <td>280.0</td>\n",
       "    </tr>\n",
       "    <tr>\n",
       "      <th>mean</th>\n",
       "      <td>0.0</td>\n",
       "      <td>0.0</td>\n",
       "    </tr>\n",
       "    <tr>\n",
       "      <th>std</th>\n",
       "      <td>1.0</td>\n",
       "      <td>1.0</td>\n",
       "    </tr>\n",
       "    <tr>\n",
       "      <th>min</th>\n",
       "      <td>-1.9</td>\n",
       "      <td>-1.6</td>\n",
       "    </tr>\n",
       "    <tr>\n",
       "      <th>25%</th>\n",
       "      <td>-0.7</td>\n",
       "      <td>-0.8</td>\n",
       "    </tr>\n",
       "    <tr>\n",
       "      <th>50%</th>\n",
       "      <td>-0.1</td>\n",
       "      <td>0.0</td>\n",
       "    </tr>\n",
       "    <tr>\n",
       "      <th>75%</th>\n",
       "      <td>0.8</td>\n",
       "      <td>0.5</td>\n",
       "    </tr>\n",
       "    <tr>\n",
       "      <th>max</th>\n",
       "      <td>2.1</td>\n",
       "      <td>2.4</td>\n",
       "    </tr>\n",
       "  </tbody>\n",
       "</table>\n",
       "</div>"
      ],
      "text/plain": [
       "         Age  EstimatedSalary\n",
       "count  280.0            280.0\n",
       "mean     0.0              0.0\n",
       "std      1.0              1.0\n",
       "min     -1.9             -1.6\n",
       "25%     -0.7             -0.8\n",
       "50%     -0.1              0.0\n",
       "75%      0.8              0.5\n",
       "max      2.1              2.4"
      ]
     },
     "execution_count": 20,
     "metadata": {},
     "output_type": "execute_result"
    }
   ],
   "source": [
    "np.round(X_train_scaled.describe() , 1)"
   ]
  },
  {
   "cell_type": "markdown",
   "id": "f2b63741",
   "metadata": {},
   "source": [
    "## <font color = 'brown'>Effect of Scaling </font>"
   ]
  },
  {
   "cell_type": "code",
   "execution_count": 21,
   "id": "4f89e2bf",
   "metadata": {},
   "outputs": [
    {
     "data": {
      "image/png": "[encoded data removed]",
      "text/plain": [
       "<Figure size 864x360 with 2 Axes>"
      ]
     },
     "metadata": {
      "needs_background": "light"
     },
     "output_type": "display_data"
    }
   ],
   "source": [
    "fig , (ax1 , ax2) = plt.subplots(ncols = 2 , figsize=(12 ,5))\n",
    "ax1.scatter(X_train['Age'] , X_train['EstimatedSalary'])\n",
    "ax1.set_title('Before Scaling')\n",
    "ax2.scatter(X_train_scaled['Age'] , X_train_scaled['EstimatedSalary'])\n",
    "ax2.set_title('After Scaling')\n",
    "plt.show()"
   ]
  },
  {
   "cell_type": "code",
   "execution_count": 28,
   "id": "53bf30eb",
   "metadata": {},
   "outputs": [
    {
     "data": {
      "text/plain": [
       "<AxesSubplot:title={'center':'After Scaling'}>"
      ]
     },
     "execution_count": 28,
     "metadata": {},
     "output_type": "execute_result"
    },
    {
     "data": {
      "image/png": "[encoded data removed]",
      "text/plain": [
       "<Figure size 864x360 with 2 Axes>"
      ]
     },
     "metadata": {
      "needs_background": "light"
     },
     "output_type": "display_data"
    }
   ],
   "source": [
    "fig , (ax1,ax2)  = plt.subplots(ncols =2 , figsize = (12,5))\n",
    "ax1.set_title('Before Scaling')\n",
    "sns.kdeplot(X_train['Age'] , ax=ax1)\n",
    "sns.kdeplot(X_train['EstimatedSalary'] , ax = ax1)\n",
    "ax2.set_title(\"After Scaling\")\n",
    "sns.kdeplot(X_train_scaled['Age'] , ax=ax2)\n",
    "sns.kdeplot(X_train_scaled['EstimatedSalary'] , ax = ax2)"
   ]
  },
  {
   "cell_type": "markdown",
   "id": "afa00c1c",
   "metadata": {},
   "source": [
    "<font color ='blue'>**Why Scaling is important?** </font>"
   ]
  },
  {
   "cell_type": "markdown",
   "id": "f3b7dde2",
   "metadata": {},
   "source": [
    "<font color = 'green'>**Without Scaling**</font>"
   ]
  },
  {
   "cell_type": "markdown",
   "id": "839c1166",
   "metadata": {},
   "source": [
    "## <font color = 'brown'>Logistic Regression </font>"
   ]
  },
  {
   "cell_type": "code",
   "execution_count": 39,
   "id": "6056ce2e",
   "metadata": {},
   "outputs": [
    {
     "data": {
      "text/plain": [
       "0.6428571428571429"
      ]
     },
     "execution_count": 39,
     "metadata": {},
     "output_type": "execute_result"
    }
   ],
   "source": [
    "from sklearn.linear_model import LogisticRegression\n",
    "lr = LogisticRegression()\n",
    "lr.fit(X_train , y_train)\n",
    "lr.score(X_train , y_train) "
   ]
  },
  {
   "cell_type": "code",
   "execution_count": 40,
   "id": "bb9898e8",
   "metadata": {},
   "outputs": [
    {
     "data": {
      "text/plain": [
       "0.8464285714285714"
      ]
     },
     "execution_count": 40,
     "metadata": {},
     "output_type": "execute_result"
    }
   ],
   "source": [
    "lr_scaled = LogisticRegression()\n",
    "lr_scaled.fit(X_train_scaled , y_train)\n",
    "lr_scaled.score(X_train_scaled , y_train)"
   ]
  },
  {
   "cell_type": "markdown",
   "id": "8a5c969b",
   "metadata": {},
   "source": [
    "Here you can see score of scaled data is better than non scaled data"
   ]
  },
  {
   "cell_type": "code",
   "execution_count": 41,
   "id": "58565bf0",
   "metadata": {},
   "outputs": [],
   "source": [
    "y_pred = lr.predict(X_test)\n",
    "y_pred_scaled = lr_scaled.predict(X_test_scaled)"
   ]
  },
  {
   "cell_type": "code",
   "execution_count": 42,
   "id": "021e274f",
   "metadata": {},
   "outputs": [
    {
     "name": "stdout",
     "output_type": "stream",
     "text": [
      "Actual :  0.6416666666666667\n",
      "Scaled :  0.8416666666666667\n"
     ]
    }
   ],
   "source": [
    "from sklearn.metrics import accuracy_score\n",
    "print('Actual : ' , accuracy_score(y_test , y_pred))\n",
    "print(\"Scaled : \" , accuracy_score(y_test , y_pred_scaled))"
   ]
  },
  {
   "cell_type": "markdown",
   "id": "bee0fde6",
   "metadata": {},
   "source": [
    "## <font color = 'brown'>Decision Tree Classifier</font>"
   ]
  },
  {
   "cell_type": "code",
   "execution_count": 43,
   "id": "3fe99db1",
   "metadata": {},
   "outputs": [
    {
     "data": {
      "text/plain": [
       "DecisionTreeClassifier()"
      ]
     },
     "execution_count": 43,
     "metadata": {},
     "output_type": "execute_result"
    }
   ],
   "source": [
    "from sklearn.tree import DecisionTreeClassifier\n",
    "dt = DecisionTreeClassifier()\n",
    "dt_scaled = DecisionTreeClassifier()\n",
    "dt.fit(X_train , y_train)\n",
    "dt_scaled.fit(X_train_scaled , y_train)"
   ]
  },
  {
   "cell_type": "code",
   "execution_count": 45,
   "id": "67d58afe",
   "metadata": {},
   "outputs": [
    {
     "name": "stdout",
     "output_type": "stream",
     "text": [
      "Actual 1.0\n",
      "Scaled 1.0\n"
     ]
    }
   ],
   "source": [
    "print('Actual' , dt.score(X_train , y_train))\n",
    "print('Scaled' , dt_scaled.score(X_train_scaled , y_train))"
   ]
  },
  {
   "cell_type": "code",
   "execution_count": 47,
   "id": "c0660f2a",
   "metadata": {},
   "outputs": [],
   "source": [
    "y_pred = dt.predict(X_test)\n",
    "y_pred_scaled = dt_scaled.predict(X_test_scaled)"
   ]
  },
  {
   "cell_type": "code",
   "execution_count": 57,
   "id": "69ca54fa",
   "metadata": {},
   "outputs": [
    {
     "name": "stdout",
     "output_type": "stream",
     "text": [
      "Actual 0.875\n",
      "Scaled 0.8833333333333333\n"
     ]
    }
   ],
   "source": [
    "print('Actual' , accuracy_score(y_test , y_pred))\n",
    "print('Scaled' , accuracy_score(y_test , y_pred_scaled))"
   ]
  },
  {
   "cell_type": "markdown",
   "id": "ba70578e",
   "metadata": {},
   "source": [
    "## <font color ='brown'>Effect of Outlier</font>"
   ]
  },
  {
   "cell_type": "code",
   "execution_count": 65,
   "id": "cb9f72a5",
   "metadata": {},
   "outputs": [],
   "source": [
    "dict = {'Age':[5,90,95] , 'EstimatedSalary':[1000,250000,350000],'Purchased':[0,1,1]}\n",
    "df = df.append(pd.DataFrame(dict) , ignore_index = True)"
   ]
  },
  {
   "cell_type": "code",
   "execution_count": 66,
   "id": "22c53867",
   "metadata": {},
   "outputs": [],
   "source": [
    "df = df.append(pd.DataFrame({'Age':[5,90,95],'EstimatedSalary':[1000,250000,350000],'Purchased':[0,1,1]}),ignore_index=True)"
   ]
  },
  {
   "cell_type": "code",
   "execution_count": 67,
   "id": "a5595a11",
   "metadata": {},
   "outputs": [
    {
     "data": {
      "text/plain": [
       "<AxesSubplot:xlabel='Age', ylabel='EstimatedSalary'>"
      ]
     },
     "execution_count": 67,
     "metadata": {},
     "output_type": "execute_result"
    },
    {
     "data": {
      "image/png": "[encoded data removed]",
      "text/plain": [
       "<Figure size 432x288 with 1 Axes>"
      ]
     },
     "metadata": {
      "needs_background": "light"
     },
     "output_type": "display_data"
    }
   ],
   "source": [
    "sns.scatterplot(x=df['Age'] , y=df['EstimatedSalary'])"
   ]
  },
  {
   "cell_type": "code",
   "execution_count": null,
   "id": "3cb49659",
   "metadata": {},
   "outputs": [],
   "source": []
  }
 ],
 "metadata": {
  "kernelspec": {
   "display_name": "Python 3",
   "language": "python",
   "name": "python3"
  },
  "language_info": {
   "codemirror_mode": {
    "name": "ipython",
    "version": 3
   },
   "file_extension": ".py",
   "mimetype": "text/x-python",
   "name": "python",
   "nbconvert_exporter": "python",
   "pygments_lexer": "ipython3",
   "version": "3.8.11"
  }
 },
 "nbformat": 4,
 "nbformat_minor": 5
}
