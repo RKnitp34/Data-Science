{
 "cells": [
  {
   "cell_type": "code",
   "execution_count": 6,
   "id": "c6367355",
   "metadata": {},
   "outputs": [],
   "source": [
    "import pandas as pd \n",
    "df = pd.read_csv('placement.csv')\n",
    "X = df.iloc[: , 0].values\n",
    "y = df.iloc[: , 1].values"
   ]
  },
  {
   "cell_type": "code",
   "execution_count": 7,
   "id": "01d2d08d",
   "metadata": {},
   "outputs": [],
   "source": [
    "from sklearn.model_selection import train_test_split\n",
    "X_train , X_test , y_train , y_test  = train_test_split(X , y , test_size = 0.2 ,random_state = 2)"
   ]
  },
  {
   "cell_type": "code",
   "execution_count": 18,
   "id": "87c92b8a",
   "metadata": {},
   "outputs": [
    {
     "data": {
      "text/plain": [
       "6.989937500000001"
      ]
     },
     "execution_count": 18,
     "metadata": {},
     "output_type": "execute_result"
    }
   ],
   "source": [
    "X_train.mean()"
   ]
  },
  {
   "cell_type": "code",
   "execution_count": 16,
   "id": "e3fd96b2",
   "metadata": {},
   "outputs": [],
   "source": [
    "for i in range(X_train.shape[0]):\n",
    "    ((X_train[i]-X_train.mean())(y_train[i]-y_train.mean()))/((X_train[i]-X_train.mean())*(X_train[i]-X_train.mean()))\n",
    "    \n"
   ]
  },
  {
   "cell_type": "code",
   "execution_count": 40,
   "id": "a6ae7860",
   "metadata": {},
   "outputs": [],
   "source": [
    "class meraLR:\n",
    "    \n",
    "    def __init__(self):\n",
    "        self.m = None\n",
    "        self.b = None\n",
    "      \n",
    "    def fit(self , X_train , y_train):\n",
    "        num =0 \n",
    "        den =0\n",
    "        for i in range(X_train.shape[0]):\n",
    "            num = num + ((X_train[i]-X_train.mean())*(y_train[i]-y_train.mean()))\n",
    "            den = den + ((X_train[i]-X_train.mean())*(X_train[i]-X_train.mean()))\n",
    "        \n",
    "        self.m = num/den\n",
    "        \n",
    "        self.b = y_train.mean() - (self.m * X_train.mean())\n",
    "        \n",
    "        print(self.m)\n",
    "        print(self.b)\n",
    "    \n",
    "    \n",
    "    \n",
    "    def predict(self , X_test):\n",
    "        return self.m * X_test + self.b \n",
    "        \n",
    "    "
   ]
  },
  {
   "cell_type": "code",
   "execution_count": 41,
   "id": "63e2e354",
   "metadata": {},
   "outputs": [],
   "source": [
    "lr = meraLR()"
   ]
  },
  {
   "cell_type": "code",
   "execution_count": 42,
   "id": "dbcb820e",
   "metadata": {},
   "outputs": [
    {
     "name": "stdout",
     "output_type": "stream",
     "text": [
      "0.5579519734250721\n",
      "-0.8961119222429152\n"
     ]
    }
   ],
   "source": [
    "lr.fit(X_train , y_train)"
   ]
  },
  {
   "cell_type": "code",
   "execution_count": 43,
   "id": "4c77bc15",
   "metadata": {},
   "outputs": [
    {
     "data": {
      "text/plain": [
       "3.891116009744203"
      ]
     },
     "execution_count": 43,
     "metadata": {},
     "output_type": "execute_result"
    }
   ],
   "source": [
    "lr.predict(X_test[0])"
   ]
  },
  {
   "cell_type": "code",
   "execution_count": null,
   "id": "f3c141ec",
   "metadata": {},
   "outputs": [],
   "source": []
  }
 ],
 "metadata": {
  "kernelspec": {
   "display_name": "Python 3 (ipykernel)",
   "language": "python",
   "name": "python3"
  },
  "language_info": {
   "codemirror_mode": {
    "name": "ipython",
    "version": 3
   },
   "file_extension": ".py",
   "mimetype": "text/x-python",
   "name": "python",
   "nbconvert_exporter": "python",
   "pygments_lexer": "ipython3",
   "version": "3.8.12"
  }
 },
 "nbformat": 4,
 "nbformat_minor": 5
}
